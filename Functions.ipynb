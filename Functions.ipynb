{
  "nbformat": 4,
  "nbformat_minor": 0,
  "metadata": {
    "colab": {
      "provenance": [],
      "authorship_tag": "ABX9TyNCMFQ2kQJ2ao5Fp5RKrMYu",
      "include_colab_link": true
    },
    "kernelspec": {
      "name": "python3",
      "display_name": "Python 3"
    },
    "language_info": {
      "name": "python"
    }
  },
  "cells": [
    {
      "cell_type": "markdown",
      "metadata": {
        "id": "view-in-github",
        "colab_type": "text"
      },
      "source": [
        "<a href=\"https://colab.research.google.com/github/mahi7259/PHYTON/blob/main/Functions.ipynb\" target=\"_parent\"><img src=\"https://colab.research.google.com/assets/colab-badge.svg\" alt=\"Open In Colab\"/></a>"
      ]
    },
    {
      "cell_type": "code",
      "execution_count": 7,
      "metadata": {
        "id": "s0sM8sER95N3",
        "colab": {
          "base_uri": "https://localhost:8080/"
        },
        "outputId": "c630688c-836b-4a3a-f7c0-c064f5da4db4"
      },
      "outputs": [
        {
          "output_type": "stream",
          "name": "stdout",
          "text": [
            "Hello Alice, you are 25 years old.\n"
          ]
        }
      ],
      "source": [
        "# position argument\n",
        "\n",
        "def greet(name, age):\n",
        "    print(f\"Hello {name}, you are {age} years old.\")\n",
        "\n",
        "greet(\"Alice\", 25)"
      ]
    },
    {
      "cell_type": "code",
      "source": [
        "#keyword argument\n",
        "\n",
        "def greet(name, age=18):\n",
        "    print(f\"Hello {name}, you are {age} years old.\")\n",
        "\n",
        "greet(\"Alice\")\n",
        "greet(\"Bob\", age=25)\n"
      ],
      "metadata": {
        "colab": {
          "base_uri": "https://localhost:8080/"
        },
        "id": "7y_4SVLYjvHP",
        "outputId": "58a90d5f-27cb-4643-8ed0-67692aacbbb8"
      },
      "execution_count": 4,
      "outputs": [
        {
          "output_type": "stream",
          "name": "stdout",
          "text": [
            "Hello Alice, you are 18 years old.\n",
            "Hello Bob, you are 25 years old.\n"
          ]
        }
      ]
    },
    {
      "cell_type": "code",
      "source": [
        "# Function that returns a greeting message\n",
        "def greet(name):\n",
        "    greeting = f\"Hello, {name}! Welcome to Python!\"\n",
        "    return greeting\n",
        "\n",
        "message = greet(\"Alice\")\n",
        "\n",
        "\n",
        "print(message)\n"
      ],
      "metadata": {
        "colab": {
          "base_uri": "https://localhost:8080/"
        },
        "id": "kEzOOBvbkrTZ",
        "outputId": "db87db16-54fd-4b91-e650-7347ff5a2f66"
      },
      "execution_count": 8,
      "outputs": [
        {
          "output_type": "stream",
          "name": "stdout",
          "text": [
            "Hello, Alice! Welcome to Python!\n"
          ]
        }
      ]
    },
    {
      "cell_type": "code",
      "source": [
        "#veriable length argument\n",
        "\n",
        "def example(*args, **kwargs):\n",
        "    print(args)\n",
        "    print(kwargs)\n",
        "\n",
        "example(1, 2, 3, name=\"John\", age=30)\n"
      ],
      "metadata": {
        "colab": {
          "base_uri": "https://localhost:8080/"
        },
        "id": "fqhLWrtEmvUk",
        "outputId": "a8160560-4123-4935-efea-3b5b809d3883"
      },
      "execution_count": 9,
      "outputs": [
        {
          "output_type": "stream",
          "name": "stdout",
          "text": [
            "(1, 2, 3)\n",
            "{'name': 'John', 'age': 30}\n"
          ]
        }
      ]
    },
    {
      "cell_type": "code",
      "source": [
        "#default argument\n",
        "def add(a, b=5):\n",
        "    return a + b\n",
        "\n",
        "print(add(3))  # Output: 8\n",
        "print(add(3, 2))  # Output: 5\n"
      ],
      "metadata": {
        "id": "ZlMy5IlsnQIr"
      },
      "execution_count": null,
      "outputs": []
    }
  ]
}