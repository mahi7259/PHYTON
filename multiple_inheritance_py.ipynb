{
  "nbformat": 4,
  "nbformat_minor": 0,
  "metadata": {
    "colab": {
      "provenance": [],
      "authorship_tag": "ABX9TyOIPQPXXmZmAhu1ZNlXen1x",
      "include_colab_link": true
    },
    "kernelspec": {
      "name": "python3",
      "display_name": "Python 3"
    },
    "language_info": {
      "name": "python"
    }
  },
  "cells": [
    {
      "cell_type": "markdown",
      "metadata": {
        "id": "view-in-github",
        "colab_type": "text"
      },
      "source": [
        "<a href=\"https://colab.research.google.com/github/mahi7259/PHYTON/blob/main/multiple_inheritance_py.ipynb\" target=\"_parent\"><img src=\"https://colab.research.google.com/assets/colab-badge.svg\" alt=\"Open In Colab\"/></a>"
      ]
    },
    {
      "cell_type": "code",
      "execution_count": 8,
      "metadata": {
        "colab": {
          "base_uri": "https://localhost:8080/"
        },
        "id": "fAnzqKLZTSRD",
        "outputId": "f11cad48-2cc2-4023-d946-badeea318c65"
      },
      "outputs": [
        {
          "output_type": "stream",
          "name": "stdout",
          "text": [
            "Spider man\n"
          ]
        }
      ],
      "source": [
        "class venom:\n",
        "  def who(self):\n",
        "    print(\"we are venom\")\n",
        "\n",
        "class enemy:\n",
        "  def is_enemy(self):\n",
        "    print(\"Spider man\")\n",
        "\n",
        "class Venom(venom,enemy):\n",
        "  pass\n",
        "\n",
        "obj=Venom()\n",
        "obj.is_enemy()"
      ]
    }
  ]
}