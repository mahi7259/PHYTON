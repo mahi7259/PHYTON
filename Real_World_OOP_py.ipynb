{
  "nbformat": 4,
  "nbformat_minor": 0,
  "metadata": {
    "colab": {
      "provenance": [],
      "authorship_tag": "ABX9TyOTJE92FKSJrqjY/pKgevnO",
      "include_colab_link": true
    },
    "kernelspec": {
      "name": "python3",
      "display_name": "Python 3"
    },
    "language_info": {
      "name": "python"
    }
  },
  "cells": [
    {
      "cell_type": "markdown",
      "metadata": {
        "id": "view-in-github",
        "colab_type": "text"
      },
      "source": [
        "<a href=\"https://colab.research.google.com/github/mahi7259/PHYTON/blob/main/Real_World_OOP_py.ipynb\" target=\"_parent\"><img src=\"https://colab.research.google.com/assets/colab-badge.svg\" alt=\"Open In Colab\"/></a>"
      ]
    },
    {
      "cell_type": "code",
      "source": [
        "class Student:\n",
        "    def __init__(self, name, age, marks):\n",
        "        self.name = name\n",
        "        self.age = age\n",
        "        self.marks = marks\n",
        "        print(f\"Name: {self.name}, Age: {self.age}, Marks: {self.marks}\")\n",
        "\n",
        "    def calculate_grade(self):\n",
        "        if self.marks >= 90:\n",
        "            return \"A\"\n",
        "        elif self.marks >= 80:\n",
        "            return \"B\"\n",
        "        elif self.marks >= 70:\n",
        "            return \"C\"\n",
        "        elif self.marks >= 60:\n",
        "            return \"D\"\n",
        "        else:\n",
        "            return \"F\"\n",
        "student1 = Student(\"Jill\", 20, 92)\n",
        "print(f\"{student1.name}'s grade: {student1.calculate_grade()}\")\n",
        "student2 = Student(\"Jill\", 20, 92)\n",
        "print(f\"{student2.name}'s grade: {student2.calculate_grade()}\")\n"
      ],
      "metadata": {
        "colab": {
          "base_uri": "https://localhost:8080/"
        },
        "id": "4Z6GFG9dEddA",
        "outputId": "1235cf1e-9bbe-485e-c541-8172e4ce9a34"
      },
      "execution_count": 21,
      "outputs": [
        {
          "output_type": "stream",
          "name": "stdout",
          "text": [
            "Name: Jill, Age: 20, Marks: 92\n",
            "Jill's grade: A\n",
            "Name: Jill, Age: 20, Marks: 92\n",
            "Jill's grade: A\n"
          ]
        }
      ]
    }
  ]
}