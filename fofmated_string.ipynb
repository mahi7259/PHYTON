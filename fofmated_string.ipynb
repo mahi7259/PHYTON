{
  "nbformat": 4,
  "nbformat_minor": 0,
  "metadata": {
    "colab": {
      "provenance": [],
      "authorship_tag": "ABX9TyOnWxGpdrCF53Ew0sLz7+WT",
      "include_colab_link": true
    },
    "kernelspec": {
      "name": "python3",
      "display_name": "Python 3"
    },
    "language_info": {
      "name": "python"
    }
  },
  "cells": [
    {
      "cell_type": "markdown",
      "metadata": {
        "id": "view-in-github",
        "colab_type": "text"
      },
      "source": [
        "<a href=\"https://colab.research.google.com/github/mahi7259/PHYTON/blob/main/fofmated_string.ipynb\" target=\"_parent\"><img src=\"https://colab.research.google.com/assets/colab-badge.svg\" alt=\"Open In Colab\"/></a>"
      ]
    },
    {
      "cell_type": "code",
      "execution_count": 2,
      "metadata": {
        "colab": {
          "base_uri": "https://localhost:8080/"
        },
        "id": "5Ij0PEkMHlhr",
        "outputId": "df4595d1-6338-489c-f2ce-a61b875dafbd"
      },
      "outputs": [
        {
          "output_type": "stream",
          "name": "stdout",
          "text": [
            "first 1 ,second 2, third 3\n"
          ]
        }
      ],
      "source": [
        "a=1\n",
        "b=2\n",
        "c=3\n",
        "print(f\"first {a} ,second {b}, third {c}\")\n"
      ]
    }
  ]
}