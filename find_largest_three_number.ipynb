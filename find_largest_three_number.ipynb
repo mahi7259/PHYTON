{
  "nbformat": 4,
  "nbformat_minor": 0,
  "metadata": {
    "colab": {
      "provenance": [],
      "authorship_tag": "ABX9TyP4Ho7cdU+iEDMH3zIgWQNb",
      "include_colab_link": true
    },
    "kernelspec": {
      "name": "python3",
      "display_name": "Python 3"
    },
    "language_info": {
      "name": "python"
    }
  },
  "cells": [
    {
      "cell_type": "markdown",
      "metadata": {
        "id": "view-in-github",
        "colab_type": "text"
      },
      "source": [
        "<a href=\"https://colab.research.google.com/github/mahi7259/PHYTON/blob/main/find_largest_three_number.ipynb\" target=\"_parent\"><img src=\"https://colab.research.google.com/assets/colab-badge.svg\" alt=\"Open In Colab\"/></a>"
      ]
    },
    {
      "cell_type": "code",
      "execution_count": 14,
      "metadata": {
        "colab": {
          "base_uri": "https://localhost:8080/"
        },
        "id": "Y3IkXAsw1zlf",
        "outputId": "ef7f5a00-ad51-44a5-ff18-028c85f31cf7"
      },
      "outputs": [
        {
          "output_type": "stream",
          "name": "stdout",
          "text": [
            "entre first number2\n",
            "enter second number3\n",
            "enter third number1\n",
            "enter b is greater\n"
          ]
        }
      ],
      "source": [
        "a=float(input(\"entre first number\"))\n",
        "b=float(input(\"enter second number\"))\n",
        "c=float(input(\"enter third number\"))\n",
        "if a>b and a>c:\n",
        "  print(\"a is greater\")\n",
        "elif b>c:\n",
        "  print(\"enter b is greater\")\n",
        "else:\n",
        "  print(\"enter c is greater\")"
      ]
    }
  ]
}