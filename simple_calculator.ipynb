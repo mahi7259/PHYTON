{
  "nbformat": 4,
  "nbformat_minor": 0,
  "metadata": {
    "colab": {
      "provenance": [],
      "authorship_tag": "ABX9TyPafUZvWHyuK1YoEMdkstIS",
      "include_colab_link": true
    },
    "kernelspec": {
      "name": "python3",
      "display_name": "Python 3"
    },
    "language_info": {
      "name": "python"
    }
  },
  "cells": [
    {
      "cell_type": "markdown",
      "metadata": {
        "id": "view-in-github",
        "colab_type": "text"
      },
      "source": [
        "<a href=\"https://colab.research.google.com/github/mahi7259/PHYTON/blob/main/simple_calculator.ipynb\" target=\"_parent\"><img src=\"https://colab.research.google.com/assets/colab-badge.svg\" alt=\"Open In Colab\"/></a>"
      ]
    },
    {
      "cell_type": "code",
      "execution_count": 2,
      "metadata": {
        "colab": {
          "base_uri": "https://localhost:8080/"
        },
        "id": "HC27d_XQxzCJ",
        "outputId": "385e4d5a-aee4-435e-f6ef-d3cbde9a117d"
      },
      "outputs": [
        {
          "output_type": "stream",
          "name": "stdout",
          "text": [
            "enter the first number5\n",
            "enter the second number2\n",
            "enter operation +,-,*,/*\n",
            "result 10.0\n"
          ]
        }
      ],
      "source": [
        "a=float(input(\"enter the first number\"))\n",
        "b=float(input(\"enter the second number\"))\n",
        "operation=input(\"enter operation +,-,*,/\")\n",
        "if operation==\"+\":\n",
        " print(\"result\",a+b)\n",
        "elif operation==\"-\":\n",
        " print(\"result\",a-b)\n",
        "elif operation==\"*\":\n",
        " print(\"result\",a*b)\n",
        "elif operation==\"/\":\n",
        " print(\"result\",a/b)\n",
        "else:\n",
        " print(\"invalid operation\")\n"
      ]
    }
  ]
}