{
  "nbformat": 4,
  "nbformat_minor": 0,
  "metadata": {
    "colab": {
      "provenance": [],
      "authorship_tag": "ABX9TyMoTsH4JRBkr8d8ob78qj+M",
      "include_colab_link": true
    },
    "kernelspec": {
      "name": "python3",
      "display_name": "Python 3"
    },
    "language_info": {
      "name": "python"
    }
  },
  "cells": [
    {
      "cell_type": "markdown",
      "metadata": {
        "id": "view-in-github",
        "colab_type": "text"
      },
      "source": [
        "<a href=\"https://colab.research.google.com/github/mahi7259/PHYTON/blob/main/Angle_in_degree.ipynb\" target=\"_parent\"><img src=\"https://colab.research.google.com/assets/colab-badge.svg\" alt=\"Open In Colab\"/></a>"
      ]
    },
    {
      "cell_type": "code",
      "execution_count": 4,
      "metadata": {
        "colab": {
          "base_uri": "https://localhost:8080/"
        },
        "id": "6b5D3qMhNOfn",
        "outputId": "2bfe39a7-398e-4e1e-e267-e09db4cee8f6"
      },
      "outputs": [
        {
          "output_type": "stream",
          "name": "stdout",
          "text": [
            "Enter an angle in degrees270\n",
            "sine of angle: -1.0\n",
            "cosine of angle: -1.8369701987210297e-16\n"
          ]
        }
      ],
      "source": [
        "import math\n",
        "angle=float(input(\"Enter an angle in degrees\"))\n",
        "radian= math.radians(angle)\n",
        "print(\"sine of angle:\",math.sin(radian))\n",
        "print(\"cosine of angle:\",math.cos(radian))"
      ]
    }
  ]
}