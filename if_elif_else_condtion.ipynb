{
  "nbformat": 4,
  "nbformat_minor": 0,
  "metadata": {
    "colab": {
      "provenance": [],
      "authorship_tag": "ABX9TyMyvC3Zfr8zv7QVh/8X8JFM",
      "include_colab_link": true
    },
    "kernelspec": {
      "name": "python3",
      "display_name": "Python 3"
    },
    "language_info": {
      "name": "python"
    }
  },
  "cells": [
    {
      "cell_type": "markdown",
      "metadata": {
        "id": "view-in-github",
        "colab_type": "text"
      },
      "source": [
        "<a href=\"https://colab.research.google.com/github/mahi7259/PHYTON/blob/main/if_elif_else_condtion.ipynb\" target=\"_parent\"><img src=\"https://colab.research.google.com/assets/colab-badge.svg\" alt=\"Open In Colab\"/></a>"
      ]
    },
    {
      "cell_type": "code",
      "execution_count": 1,
      "metadata": {
        "colab": {
          "base_uri": "https://localhost:8080/"
        },
        "id": "fizXmPoUiJeu",
        "outputId": "ca84281e-2ae5-4117-a3e1-66c740d96e8c"
      },
      "outputs": [
        {
          "output_type": "stream",
          "name": "stdout",
          "text": [
            "You are a teenager.\n"
          ]
        }
      ],
      "source": [
        "age = 16\n",
        "\n",
        "if age >= 18:\n",
        "    print(\"You are an adult.\")\n",
        "elif age >= 13:\n",
        "    print(\"You are a teenager.\")\n",
        "else:\n",
        "    print(\"You are a child.\")\n"
      ]
    }
  ]
}