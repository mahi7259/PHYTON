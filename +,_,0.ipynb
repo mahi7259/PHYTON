{
  "nbformat": 4,
  "nbformat_minor": 0,
  "metadata": {
    "colab": {
      "provenance": [],
      "authorship_tag": "ABX9TyPHMIjnfJvM1Oes/Q5nyJE5",
      "include_colab_link": true
    },
    "kernelspec": {
      "name": "python3",
      "display_name": "Python 3"
    },
    "language_info": {
      "name": "python"
    }
  },
  "cells": [
    {
      "cell_type": "markdown",
      "metadata": {
        "id": "view-in-github",
        "colab_type": "text"
      },
      "source": [
        "<a href=\"https://colab.research.google.com/github/mahi7259/PHYTON/blob/main/%2B%2C_%2C0.ipynb\" target=\"_parent\"><img src=\"https://colab.research.google.com/assets/colab-badge.svg\" alt=\"Open In Colab\"/></a>"
      ]
    },
    {
      "cell_type": "code",
      "execution_count": 3,
      "metadata": {
        "colab": {
          "base_uri": "https://localhost:8080/"
        },
        "id": "whFh09684E4T",
        "outputId": "732a4116-fd64-496c-88f5-bb6e98988a4c"
      },
      "outputs": [
        {
          "output_type": "stream",
          "name": "stdout",
          "text": [
            "enter the number5\n",
            "positive\n"
          ]
        }
      ],
      "source": [
        "a=int(input(\"enter the number\"))\n",
        "if a>0:\n",
        " print(\"positive\")\n",
        "elif a<0:\n",
        "  print(\"negative\")\n",
        "else:\n",
        "  print(\"Zero\")"
      ]
    }
  ]
}