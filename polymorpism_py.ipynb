{
  "nbformat": 4,
  "nbformat_minor": 0,
  "metadata": {
    "colab": {
      "provenance": [],
      "authorship_tag": "ABX9TyNVZy1vfAoksENyXSRq4f7I",
      "include_colab_link": true
    },
    "kernelspec": {
      "name": "python3",
      "display_name": "Python 3"
    },
    "language_info": {
      "name": "python"
    }
  },
  "cells": [
    {
      "cell_type": "markdown",
      "metadata": {
        "id": "view-in-github",
        "colab_type": "text"
      },
      "source": [
        "<a href=\"https://colab.research.google.com/github/mahi7259/PHYTON/blob/main/polymorpism_py.ipynb\" target=\"_parent\"><img src=\"https://colab.research.google.com/assets/colab-badge.svg\" alt=\"Open In Colab\"/></a>"
      ]
    },
    {
      "cell_type": "code",
      "execution_count": 5,
      "metadata": {
        "colab": {
          "base_uri": "https://localhost:8080/"
        },
        "id": "9msO5_Td587d",
        "outputId": "a337d928-7a6a-4cd8-d1c6-85dabf44a728"
      },
      "outputs": [
        {
          "output_type": "stream",
          "name": "stdout",
          "text": [
            "15\n",
            "153.86\n"
          ]
        }
      ],
      "source": [
        "class Area:\n",
        "  def area(self):\n",
        "    pass\n",
        "class Rectangle(Area):\n",
        " def __init__(self,length,width):\n",
        "   self.length=length\n",
        "   self.width=width\n",
        " def area(self):\n",
        "   return self.length*self.width\n",
        "class circle(Area):\n",
        "  def __init__(self,radius):\n",
        "    self.radius=radius\n",
        "  def area(self):\n",
        "    return 3.14*self.radius*self.radius\n",
        "obj=[Rectangle(3,5),circle(7)]\n",
        "for i in obj:\n",
        "  print(i.area())\n"
      ]
    }
  ]
}