{
  "nbformat": 4,
  "nbformat_minor": 0,
  "metadata": {
    "colab": {
      "provenance": [],
      "authorship_tag": "ABX9TyM+i6PDouFiCR5bBPYJh0CF",
      "include_colab_link": true
    },
    "kernelspec": {
      "name": "python3",
      "display_name": "Python 3"
    },
    "language_info": {
      "name": "python"
    }
  },
  "cells": [
    {
      "cell_type": "markdown",
      "metadata": {
        "id": "view-in-github",
        "colab_type": "text"
      },
      "source": [
        "<a href=\"https://colab.research.google.com/github/mahi7259/PHYTON/blob/main/febonacci_function.ipynb\" target=\"_parent\"><img src=\"https://colab.research.google.com/assets/colab-badge.svg\" alt=\"Open In Colab\"/></a>"
      ]
    },
    {
      "cell_type": "code",
      "execution_count": 4,
      "metadata": {
        "colab": {
          "base_uri": "https://localhost:8080/"
        },
        "id": "6MP_SNcdIcwB",
        "outputId": "13212c3d-39e2-4248-e2d8-5d2d1bbc2693"
      },
      "outputs": [
        {
          "output_type": "stream",
          "name": "stdout",
          "text": [
            "enter the number of terms:5\n",
            "[0, 1, 1, 2, 3]\n"
          ]
        }
      ],
      "source": [
        "def febonacci(n):\n",
        "  sequence=[]\n",
        "  a,b=0,1\n",
        "  for i in range(n):\n",
        "    sequence.append(a)\n",
        "    a,b=b,a+b\n",
        "  return sequence\n",
        "terms=int(input(\"enter the number of terms:\"))\n",
        "print(febonacci(terms))"
      ]
    },
    {
      "cell_type": "code",
      "source": [],
      "metadata": {
        "id": "MpHwss09J1AV"
      },
      "execution_count": null,
      "outputs": []
    }
  ]
}