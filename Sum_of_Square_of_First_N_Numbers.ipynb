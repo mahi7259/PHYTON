{
  "nbformat": 4,
  "nbformat_minor": 0,
  "metadata": {
    "colab": {
      "provenance": [],
      "authorship_tag": "ABX9TyNXSC3KIiAwq2QY4G7nKteF",
      "include_colab_link": true
    },
    "kernelspec": {
      "name": "python3",
      "display_name": "Python 3"
    },
    "language_info": {
      "name": "python"
    }
  },
  "cells": [
    {
      "cell_type": "markdown",
      "metadata": {
        "id": "view-in-github",
        "colab_type": "text"
      },
      "source": [
        "<a href=\"https://colab.research.google.com/github/mahi7259/PHYTON/blob/main/Sum_of_Square_of_First_N_Numbers.ipynb\" target=\"_parent\"><img src=\"https://colab.research.google.com/assets/colab-badge.svg\" alt=\"Open In Colab\"/></a>"
      ]
    },
    {
      "cell_type": "code",
      "execution_count": 4,
      "metadata": {
        "colab": {
          "base_uri": "https://localhost:8080/"
        },
        "id": "zeWzqflaFhVl",
        "outputId": "45afc76d-c608-4042-af5f-ce57e710a05e"
      },
      "outputs": [
        {
          "output_type": "stream",
          "name": "stdout",
          "text": [
            "Enter a number: 11\n",
            "Sum of squares: 506\n"
          ]
        }
      ],
      "source": [
        "def sum_of_squares(n):\n",
        "    total = 0\n",
        "    for i in range(1, n+1):\n",
        "        total += i**2\n",
        "    return total\n",
        "\n",
        "n = int(input(\"Enter a number: \"))\n",
        "print(\"Sum of squares:\", sum_of_squares(n))"
      ]
    }
  ]
}