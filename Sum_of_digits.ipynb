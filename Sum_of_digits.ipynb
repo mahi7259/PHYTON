{
  "nbformat": 4,
  "nbformat_minor": 0,
  "metadata": {
    "colab": {
      "provenance": [],
      "authorship_tag": "ABX9TyOIVDQy5uqMu2FUtDi1SxIK",
      "include_colab_link": true
    },
    "kernelspec": {
      "name": "python3",
      "display_name": "Python 3"
    },
    "language_info": {
      "name": "python"
    }
  },
  "cells": [
    {
      "cell_type": "markdown",
      "metadata": {
        "id": "view-in-github",
        "colab_type": "text"
      },
      "source": [
        "<a href=\"https://colab.research.google.com/github/mahi7259/PHYTON/blob/main/Sum_of_digits.ipynb\" target=\"_parent\"><img src=\"https://colab.research.google.com/assets/colab-badge.svg\" alt=\"Open In Colab\"/></a>"
      ]
    },
    {
      "cell_type": "code",
      "execution_count": 5,
      "metadata": {
        "colab": {
          "base_uri": "https://localhost:8080/"
        },
        "id": "zrySjK5ECrZW",
        "outputId": "acc72478-1366-4f52-874f-df97ae619134"
      },
      "outputs": [
        {
          "output_type": "stream",
          "name": "stdout",
          "text": [
            "Enter a number: 1234\n",
            "Sum of digits: 10\n"
          ]
        }
      ],
      "source": [
        "def sum_of_digits(n):\n",
        "    total = 0\n",
        "    while n > 0:\n",
        "        total += n % 10\n",
        "        n //= 10\n",
        "    return total\n",
        "\n",
        "num = int(input(\"Enter a number: \"))\n",
        "print(\"Sum of digits:\", sum_of_digits(num))"
      ]
    }
  ]
}