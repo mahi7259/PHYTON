{
  "nbformat": 4,
  "nbformat_minor": 0,
  "metadata": {
    "colab": {
      "provenance": [],
      "authorship_tag": "ABX9TyOaUZ+U4FUsjUm5DxEpkzDH",
      "include_colab_link": true
    },
    "kernelspec": {
      "name": "python3",
      "display_name": "Python 3"
    },
    "language_info": {
      "name": "python"
    }
  },
  "cells": [
    {
      "cell_type": "markdown",
      "metadata": {
        "id": "view-in-github",
        "colab_type": "text"
      },
      "source": [
        "<a href=\"https://colab.research.google.com/github/mahi7259/PHYTON/blob/main/Bank_balance_py.ipynb\" target=\"_parent\"><img src=\"https://colab.research.google.com/assets/colab-badge.svg\" alt=\"Open In Colab\"/></a>"
      ]
    },
    {
      "cell_type": "code",
      "execution_count": 14,
      "metadata": {
        "colab": {
          "base_uri": "https://localhost:8080/"
        },
        "id": "JBpj4fKrbxI5",
        "outputId": "c68c2fa9-0535-4c87-cdf4-b5233d524567"
      },
      "outputs": [
        {
          "output_type": "stream",
          "name": "stdout",
          "text": [
            "deposited 1000 new balance is 1000\n",
            "withdrawn 500 new balance is 500\n"
          ]
        }
      ],
      "source": [
        "class bank:\n",
        "  def __init__(self,balance=0,account_number=0):\n",
        "    self.balance=balance\n",
        "    self.account_number=account_number\n",
        "  def deposit(self,amount):\n",
        "    self.balance+=amount\n",
        "    print(f\"deposited {amount} new balance is {self.balance}\")\n",
        "  def withdraw(self,amount):\n",
        "    self.balance-=amount\n",
        "    if self.balance<=amount:\n",
        "     print(f\"withdrawn {amount} new balance is {self.balance}\")\n",
        "    else:\n",
        "     print(\"insufficient balance\")\n",
        "\n",
        "obj1=bank()\n",
        "obj1.account_number=123456789\n",
        "obj1.deposit(1000)\n",
        "obj1.withdraw(500)\n"
      ]
    }
  ]
}