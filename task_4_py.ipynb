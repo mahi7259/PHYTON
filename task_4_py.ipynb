{
  "nbformat": 4,
  "nbformat_minor": 0,
  "metadata": {
    "colab": {
      "provenance": [],
      "authorship_tag": "ABX9TyO5O0z6F2D8opziv98lkRed",
      "include_colab_link": true
    },
    "kernelspec": {
      "name": "python3",
      "display_name": "Python 3"
    },
    "language_info": {
      "name": "python"
    }
  },
  "cells": [
    {
      "cell_type": "markdown",
      "metadata": {
        "id": "view-in-github",
        "colab_type": "text"
      },
      "source": [
        "<a href=\"https://colab.research.google.com/github/mahi7259/PHYTON/blob/main/task_4_py.ipynb\" target=\"_parent\"><img src=\"https://colab.research.google.com/assets/colab-badge.svg\" alt=\"Open In Colab\"/></a>"
      ]
    },
    {
      "cell_type": "code",
      "execution_count": 4,
      "metadata": {
        "colab": {
          "base_uri": "https://localhost:8080/"
        },
        "id": "m0GyJ0hMqkHY",
        "outputId": "285acf3f-a545-4b0e-f0e4-a0d6b85acd9f"
      },
      "outputs": [
        {
          "output_type": "execute_result",
          "data": {
            "text/plain": [
              "10"
            ]
          },
          "metadata": {},
          "execution_count": 4
        }
      ],
      "source": [
        "#sum of list\n",
        "a=[1,2,3,4]\n",
        "b=sum(a)\n",
        "b"
      ]
    },
    {
      "cell_type": "code",
      "source": [
        "#maximum\n",
        "c=max(a)\n",
        "c"
      ],
      "metadata": {
        "colab": {
          "base_uri": "https://localhost:8080/"
        },
        "id": "fXrCqsYFtQEi",
        "outputId": "bf7b4970-0d7e-413c-d91b-ccda41525a1d"
      },
      "execution_count": 5,
      "outputs": [
        {
          "output_type": "execute_result",
          "data": {
            "text/plain": [
              "4"
            ]
          },
          "metadata": {},
          "execution_count": 5
        }
      ]
    },
    {
      "cell_type": "code",
      "source": [
        "#minimum\n",
        "d=min(a)\n",
        "d"
      ],
      "metadata": {
        "colab": {
          "base_uri": "https://localhost:8080/"
        },
        "id": "3_h94bTmthlq",
        "outputId": "6cfe848f-2b1a-4856-886e-bcf9e99fcd18"
      },
      "execution_count": 6,
      "outputs": [
        {
          "output_type": "execute_result",
          "data": {
            "text/plain": [
              "1"
            ]
          },
          "metadata": {},
          "execution_count": 6
        }
      ]
    },
    {
      "cell_type": "code",
      "source": [
        "#merged list\n",
        "a=[1,2,3,4]\n",
        "b=[4,5,6,7]\n",
        "f=a+b\n",
        "f"
      ],
      "metadata": {
        "colab": {
          "base_uri": "https://localhost:8080/"
        },
        "id": "D727INZltnHy",
        "outputId": "678a2f37-91f3-4796-f252-d6334d976440"
      },
      "execution_count": 14,
      "outputs": [
        {
          "output_type": "execute_result",
          "data": {
            "text/plain": [
              "[1, 2, 3, 4, 4, 5, 6, 7]"
            ]
          },
          "metadata": {},
          "execution_count": 14
        }
      ]
    },
    {
      "cell_type": "code",
      "source": [
        "#count occurence\n",
        "a=[1,2,3,7,4,7,5,3,7,6,7]\n",
        "element=7\n",
        "count=a.count(element)\n",
        "count"
      ],
      "metadata": {
        "colab": {
          "base_uri": "https://localhost:8080/"
        },
        "id": "g8pzOW-kvcFW",
        "outputId": "eafacfb0-eba2-4d3c-d0cc-2533cb6dde80"
      },
      "execution_count": 15,
      "outputs": [
        {
          "output_type": "execute_result",
          "data": {
            "text/plain": [
              "4"
            ]
          },
          "metadata": {},
          "execution_count": 15
        }
      ]
    },
    {
      "cell_type": "code",
      "source": [
        "#Tuple Unpacking\n",
        "person=(\"mahiboob\",19,\"Engineer\")\n",
        "name,age,job=person\n",
        "print(name)\n",
        "print(age)\n",
        "print(job)"
      ],
      "metadata": {
        "colab": {
          "base_uri": "https://localhost:8080/"
        },
        "id": "MOYNzC0cwm0a",
        "outputId": "0774fe1d-694b-4140-a17b-3e929496d88c"
      },
      "execution_count": 18,
      "outputs": [
        {
          "output_type": "stream",
          "name": "stdout",
          "text": [
            "mahiboob\n",
            "19\n",
            "Engineer\n"
          ]
        }
      ]
    },
    {
      "cell_type": "code",
      "source": [
        "#Tuple Concatenation:\n",
        "a=(1,2,3,4)\n",
        "b=(5,6,7,8)\n",
        "c=a+b\n",
        "c"
      ],
      "metadata": {
        "colab": {
          "base_uri": "https://localhost:8080/"
        },
        "id": "kt6WBCM52ndI",
        "outputId": "69f92b2e-e162-43a4-9ab3-7703ea458f39"
      },
      "execution_count": 30,
      "outputs": [
        {
          "output_type": "execute_result",
          "data": {
            "text/plain": [
              "(1, 2, 3, 4, 5, 6, 7, 8)"
            ]
          },
          "metadata": {},
          "execution_count": 30
        }
      ]
    },
    {
      "cell_type": "code",
      "source": [
        "#dictionary\n",
        "a={\"name\":\"mahiboob\",\n",
        "   \"roll\":11,\n",
        "   \"branch\":\"CX\"\n",
        "   }\n",
        "a"
      ],
      "metadata": {
        "colab": {
          "base_uri": "https://localhost:8080/"
        },
        "id": "9rigYeEr3TR6",
        "outputId": "70bc134b-26c9-4b4e-8740-5c3c33991bd0"
      },
      "execution_count": 31,
      "outputs": [
        {
          "output_type": "execute_result",
          "data": {
            "text/plain": [
              "{'name': 'mahiboob', 'roll': 11, 'branch': 'CX'}"
            ]
          },
          "metadata": {},
          "execution_count": 31
        }
      ]
    },
    {
      "cell_type": "code",
      "source": [
        "#adding\n",
        "a[\"age\"] = 19\n",
        "a"
      ],
      "metadata": {
        "colab": {
          "base_uri": "https://localhost:8080/"
        },
        "id": "ghXf2aD93eu2",
        "outputId": "365b42a2-979a-4434-811d-125204fd2d34"
      },
      "execution_count": 42,
      "outputs": [
        {
          "output_type": "execute_result",
          "data": {
            "text/plain": [
              "{'name': 'mahiboob', 'roll': 11, 'branch': 'CX', 'age': 19}"
            ]
          },
          "metadata": {},
          "execution_count": 42
        }
      ]
    },
    {
      "cell_type": "code",
      "source": [
        "#List to Set\n",
        "a=[1,2,3,4]\n",
        "b=set(a)\n",
        "b"
      ],
      "metadata": {
        "colab": {
          "base_uri": "https://localhost:8080/"
        },
        "id": "U-E1VfVfzGGt",
        "outputId": "c2d672dd-3c74-4908-aebe-7e28fb3bbbf5"
      },
      "execution_count": 47,
      "outputs": [
        {
          "output_type": "execute_result",
          "data": {
            "text/plain": [
              "{1, 2, 3, 4}"
            ]
          },
          "metadata": {},
          "execution_count": 47
        }
      ]
    },
    {
      "cell_type": "code",
      "source": [
        "#Check element in set\n",
        "def is_set(a):\n",
        "  a={1,2,3,4}\n",
        "  if 5 in a:\n",
        "    print(\"yes\")\n",
        "  else:\n",
        "    print(\"no\")\n",
        "is_set(a)"
      ],
      "metadata": {
        "colab": {
          "base_uri": "https://localhost:8080/"
        },
        "id": "2g8UFb-U8bF_",
        "outputId": "889cf993-7452-452a-8e77-a7fbba93a191"
      },
      "execution_count": 52,
      "outputs": [
        {
          "output_type": "stream",
          "name": "stdout",
          "text": [
            "no\n"
          ]
        }
      ]
    },
    {
      "cell_type": "code",
      "source": [
        "#set of even numbers\n",
        "even_numbers = {x for x in range(1, 11) if x % 2 == 0}\n",
        "print(even_numbers)\n"
      ],
      "metadata": {
        "colab": {
          "base_uri": "https://localhost:8080/"
        },
        "id": "Xe6WD3s_-erY",
        "outputId": "ed25a1ea-e8e4-440a-e532-135102989a12"
      },
      "execution_count": 53,
      "outputs": [
        {
          "output_type": "stream",
          "name": "stdout",
          "text": [
            "{2, 4, 6, 8, 10}\n"
          ]
        }
      ]
    },
    {
      "cell_type": "code",
      "source": [
        "#list comperission\n",
        "squares = [x**2 for x in range(1, 11)]\n",
        "print(squares)\n",
        "\n"
      ],
      "metadata": {
        "colab": {
          "base_uri": "https://localhost:8080/"
        },
        "id": "aAyn7E5iAecJ",
        "outputId": "9685dee2-2431-4627-f85e-f85885aab01d"
      },
      "execution_count": 56,
      "outputs": [
        {
          "output_type": "stream",
          "name": "stdout",
          "text": [
            "[1, 4, 9, 16, 25, 36, 49, 64, 81, 100]\n"
          ]
        }
      ]
    }
  ]
}