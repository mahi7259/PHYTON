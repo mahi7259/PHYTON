{
  "nbformat": 4,
  "nbformat_minor": 0,
  "metadata": {
    "colab": {
      "provenance": [],
      "authorship_tag": "ABX9TyOydOPw1UpQmYnMlymyNfeq",
      "include_colab_link": true
    },
    "kernelspec": {
      "name": "python3",
      "display_name": "Python 3"
    },
    "language_info": {
      "name": "python"
    }
  },
  "cells": [
    {
      "cell_type": "markdown",
      "metadata": {
        "id": "view-in-github",
        "colab_type": "text"
      },
      "source": [
        "<a href=\"https://colab.research.google.com/github/mahi7259/PHYTON/blob/main/Factorial_of_number.ipynb\" target=\"_parent\"><img src=\"https://colab.research.google.com/assets/colab-badge.svg\" alt=\"Open In Colab\"/></a>"
      ]
    },
    {
      "cell_type": "code",
      "execution_count": 3,
      "metadata": {
        "colab": {
          "base_uri": "https://localhost:8080/"
        },
        "id": "UHXX1rLcnZ0V",
        "outputId": "db38fcd3-3a63-44a7-ed4b-cd11bccdc13d"
      },
      "outputs": [
        {
          "output_type": "stream",
          "name": "stdout",
          "text": [
            "enter start range1\n",
            "enter end range5\n",
            "1\n",
            "2\n",
            "6\n",
            "24\n",
            "120\n"
          ]
        }
      ],
      "source": [
        "a=int(input(\"enter start range\"))\n",
        "b=int(input(\"enter end range\"))\n",
        "fact=1\n",
        "for i in range(1,5+1):\n",
        "  fact*=i\n",
        "  print(fact)"
      ]
    }
  ]
}