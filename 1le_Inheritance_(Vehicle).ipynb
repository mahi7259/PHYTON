{
  "nbformat": 4,
  "nbformat_minor": 0,
  "metadata": {
    "colab": {
      "provenance": [],
      "authorship_tag": "ABX9TyO+CPgtNyc263t24OkyBBoi",
      "include_colab_link": true
    },
    "kernelspec": {
      "name": "python3",
      "display_name": "Python 3"
    },
    "language_info": {
      "name": "python"
    }
  },
  "cells": [
    {
      "cell_type": "markdown",
      "metadata": {
        "id": "view-in-github",
        "colab_type": "text"
      },
      "source": [
        "<a href=\"https://colab.research.google.com/github/mahi7259/PHYTON/blob/main/1le_Inheritance_(Vehicle).ipynb\" target=\"_parent\"><img src=\"https://colab.research.google.com/assets/colab-badge.svg\" alt=\"Open In Colab\"/></a>"
      ]
    },
    {
      "cell_type": "code",
      "execution_count": 2,
      "metadata": {
        "colab": {
          "base_uri": "https://localhost:8080/"
        },
        "id": "MVB_Xp-Pf2js",
        "outputId": "b01b939a-42c7-4a07-de74-71c6983c5178"
      },
      "outputs": [
        {
          "output_type": "stream",
          "name": "stdout",
          "text": [
            "brand:Yamahaand model:RX100\n"
          ]
        }
      ],
      "source": [
        "class Bike:\n",
        "  def vehicle(self,brand,model):\n",
        "   self.brand=brand\n",
        "   self.model=model\n",
        "class Car(Bike):\n",
        "  def Name(self):\n",
        "    print(f\"brand:{self.brand}and model:{self.model}\")\n",
        "car=Car()\n",
        "car.vehicle(\"Yamaha\",\"RX100\")\n",
        "car.Name()"
      ]
    }
  ]
}