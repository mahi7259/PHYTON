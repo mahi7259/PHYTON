{
  "nbformat": 4,
  "nbformat_minor": 0,
  "metadata": {
    "colab": {
      "provenance": [],
      "authorship_tag": "ABX9TyNrcbr4w8vNaz7nBO3QbxtX",
      "include_colab_link": true
    },
    "kernelspec": {
      "name": "python3",
      "display_name": "Python 3"
    },
    "language_info": {
      "name": "python"
    }
  },
  "cells": [
    {
      "cell_type": "markdown",
      "metadata": {
        "id": "view-in-github",
        "colab_type": "text"
      },
      "source": [
        "<a href=\"https://colab.research.google.com/github/mahi7259/PHYTON/blob/main/Oop_concept_py.ipynb\" target=\"_parent\"><img src=\"https://colab.research.google.com/assets/colab-badge.svg\" alt=\"Open In Colab\"/></a>"
      ]
    },
    {
      "cell_type": "code",
      "execution_count": 13,
      "metadata": {
        "colab": {
          "base_uri": "https://localhost:8080/"
        },
        "id": "8yvf33IvV8AT",
        "outputId": "5a2ace24-48ae-4a56-89ba-a4356c920419"
      },
      "outputs": [
        {
          "output_type": "stream",
          "name": "stdout",
          "text": [
            "my name is mahiboob and I am 19 years old\n"
          ]
        }
      ],
      "source": [
        "#With constactor\n",
        "class person:\n",
        "  def Mahiboob(self,name,age):\n",
        "   self.name=name\n",
        "   self.age=age\n",
        "  def greet(self):\n",
        "   print(f\"my name is {self.name} and I am {self.age} years old\")\n",
        "   #mahiboob1=Mahiboob(\"mahiboob\",\"19\") # this line causes an error because Mahiboob is not defined in this scope\n",
        "\n",
        "\n",
        "mahiboob1 = person() # create an instance of the person class\n",
        "mahiboob1.Mahiboob(\"mahiboob\", \"19\") #call the Mahiboob method to initialize the instance\n",
        "mahiboob1.greet() # call greet() to print the output"
      ]
    },
    {
      "cell_type": "code",
      "source": [
        "#with out using constractor\n",
        "class ben:\n",
        "  def ten(self):\n",
        "    print(f\"i am {self.name}\")\n",
        "ben1=ben()\n",
        "ben1.name=\"mahi\"\n",
        "ben1.age=19\n",
        "ben1.ten()"
      ],
      "metadata": {
        "colab": {
          "base_uri": "https://localhost:8080/"
        },
        "id": "4yNzGFNc1C3Y",
        "outputId": "766f1858-a48d-4bdd-afa7-b4147060febb"
      },
      "execution_count": 11,
      "outputs": [
        {
          "output_type": "stream",
          "name": "stdout",
          "text": [
            "i am mahi\n"
          ]
        }
      ]
    },
    {
      "cell_type": "code",
      "source": [
        "# without constractor\n",
        "class circle:\n",
        "   def area(self):\n",
        "    return 3.14*(self.radius)**2\n",
        "circle1=circle()\n",
        "circle1.radius=3\n",
        "circle1.area()"
      ],
      "metadata": {
        "colab": {
          "base_uri": "https://localhost:8080/"
        },
        "id": "YjR7kSDZ5t0L",
        "outputId": "f535f2ba-bfbf-4180-9d3b-6c33d3342449"
      },
      "execution_count": 23,
      "outputs": [
        {
          "output_type": "execute_result",
          "data": {
            "text/plain": [
              "28.26"
            ]
          },
          "metadata": {},
          "execution_count": 23
        }
      ]
    },
    {
      "cell_type": "code",
      "source": [
        "#with constractor area of circle\n",
        "\n",
        "class circle:\n",
        "  def __init__(self, radius):\n",
        "    self.radius = radius\n",
        "\n",
        "  def area(self):\n",
        "    return 3.14 * (self.radius)**2\n",
        "\n",
        "circle1 = circle(3)\n",
        "print(circle1.area())\n"
      ],
      "metadata": {
        "colab": {
          "base_uri": "https://localhost:8080/"
        },
        "id": "BEUir-2t9jfT",
        "outputId": "587dbf0a-c67f-4cf8-b622-f4ded3922326"
      },
      "execution_count": 24,
      "outputs": [
        {
          "output_type": "stream",
          "name": "stdout",
          "text": [
            "28.26\n"
          ]
        }
      ]
    }
  ]
}