{
  "nbformat": 4,
  "nbformat_minor": 0,
  "metadata": {
    "colab": {
      "provenance": [],
      "authorship_tag": "ABX9TyPgKERrA7BvT1Mdido0S3mv",
      "include_colab_link": true
    },
    "kernelspec": {
      "name": "python3",
      "display_name": "Python 3"
    },
    "language_info": {
      "name": "python"
    }
  },
  "cells": [
    {
      "cell_type": "markdown",
      "metadata": {
        "id": "view-in-github",
        "colab_type": "text"
      },
      "source": [
        "<a href=\"https://colab.research.google.com/github/mahi7259/PHYTON/blob/main/Grading_system.ipynb\" target=\"_parent\"><img src=\"https://colab.research.google.com/assets/colab-badge.svg\" alt=\"Open In Colab\"/></a>"
      ]
    },
    {
      "cell_type": "code",
      "execution_count": 3,
      "metadata": {
        "colab": {
          "base_uri": "https://localhost:8080/"
        },
        "id": "rMpRzSJboDGR",
        "outputId": "2a94fe27-d28c-4ad3-ed00-3a11181c0eef"
      },
      "outputs": [
        {
          "output_type": "stream",
          "name": "stdout",
          "text": [
            "enter the marks60\n",
            "grade C\n"
          ]
        }
      ],
      "source": [
        "marks=int(input(\"enter the marks\"))\n",
        "if marks>=90:\n",
        " print(\"grade A\")\n",
        "elif marks>=75 and marks<90:\n",
        "  print(\"grade B\")\n",
        "elif marks>=60 and marks<75:\n",
        "    print(\"grade C\")\n",
        "else:\n",
        "      print(\"grade D\")"
      ]
    }
  ]
}