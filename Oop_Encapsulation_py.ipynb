{
  "nbformat": 4,
  "nbformat_minor": 0,
  "metadata": {
    "colab": {
      "provenance": [],
      "authorship_tag": "ABX9TyOAWdyPRXZed7VlZ28dtz76",
      "include_colab_link": true
    },
    "kernelspec": {
      "name": "python3",
      "display_name": "Python 3"
    },
    "language_info": {
      "name": "python"
    }
  },
  "cells": [
    {
      "cell_type": "markdown",
      "metadata": {
        "id": "view-in-github",
        "colab_type": "text"
      },
      "source": [
        "<a href=\"https://colab.research.google.com/github/mahi7259/PHYTON/blob/main/Oop_Encapsulation_py.ipynb\" target=\"_parent\"><img src=\"https://colab.research.google.com/assets/colab-badge.svg\" alt=\"Open In Colab\"/></a>"
      ]
    },
    {
      "cell_type": "code",
      "execution_count": 12,
      "metadata": {
        "colab": {
          "base_uri": "https://localhost:8080/"
        },
        "id": "kXLnKc8Y-Dmh",
        "outputId": "ce387d67-d030-4f72-a1ab-ca88883ff2a9"
      },
      "outputs": [
        {
          "output_type": "stream",
          "name": "stdout",
          "text": [
            "gwan\n",
            "merry\n"
          ]
        }
      ],
      "source": [
        "#Encapsulation\n",
        "class thor:\n",
        "  def __init__(self):\n",
        "    self.spidy=\"gwan\"\n",
        "    self.__piter=\"merry\"\n",
        "  def loki(self):\n",
        "    print(self.__piter)\n",
        "hulk=thor()\n",
        "print(hulk.spidy)\n",
        "hulk.loki()"
      ]
    }
  ]
}