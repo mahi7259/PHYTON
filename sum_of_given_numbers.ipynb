{
  "nbformat": 4,
  "nbformat_minor": 0,
  "metadata": {
    "colab": {
      "provenance": [],
      "authorship_tag": "ABX9TyOW0ppY2QIb1Iwr35qOVZ16",
      "include_colab_link": true
    },
    "kernelspec": {
      "name": "python3",
      "display_name": "Python 3"
    },
    "language_info": {
      "name": "python"
    }
  },
  "cells": [
    {
      "cell_type": "markdown",
      "metadata": {
        "id": "view-in-github",
        "colab_type": "text"
      },
      "source": [
        "<a href=\"https://colab.research.google.com/github/mahi7259/PHYTON/blob/main/sum_of_given_numbers.ipynb\" target=\"_parent\"><img src=\"https://colab.research.google.com/assets/colab-badge.svg\" alt=\"Open In Colab\"/></a>"
      ]
    },
    {
      "cell_type": "code",
      "execution_count": 1,
      "metadata": {
        "colab": {
          "base_uri": "https://localhost:8080/"
        },
        "id": "XKzSsV2Zl1kC",
        "outputId": "55ec3bae-ea06-4104-8f5b-e5c2d957e2ba"
      },
      "outputs": [
        {
          "output_type": "stream",
          "name": "stdout",
          "text": [
            "enter start range2\n",
            "enter end range6\n",
            "2\n",
            "5\n",
            "9\n",
            "14\n",
            "20\n"
          ]
        }
      ],
      "source": [
        "a=int(input(\"enter start range\"))\n",
        "b=int(input(\"enter end range\"))\n",
        "sum=0\n",
        "for i in range(a,b+1):\n",
        "  sum=sum+i\n",
        "  print(sum)"
      ]
    }
  ]
}