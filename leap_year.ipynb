{
  "nbformat": 4,
  "nbformat_minor": 0,
  "metadata": {
    "colab": {
      "provenance": [],
      "authorship_tag": "ABX9TyMj+rvGkVA4GclUp81rM38y",
      "include_colab_link": true
    },
    "kernelspec": {
      "name": "python3",
      "display_name": "Python 3"
    },
    "language_info": {
      "name": "python"
    }
  },
  "cells": [
    {
      "cell_type": "markdown",
      "metadata": {
        "id": "view-in-github",
        "colab_type": "text"
      },
      "source": [
        "<a href=\"https://colab.research.google.com/github/mahi7259/PHYTON/blob/main/leap_year.ipynb\" target=\"_parent\"><img src=\"https://colab.research.google.com/assets/colab-badge.svg\" alt=\"Open In Colab\"/></a>"
      ]
    },
    {
      "cell_type": "code",
      "execution_count": 5,
      "metadata": {
        "id": "UbC1H3l60aS4",
        "colab": {
          "base_uri": "https://localhost:8080/"
        },
        "outputId": "51801395-def0-4d40-8a59-43be783487fa"
      },
      "outputs": [
        {
          "output_type": "stream",
          "name": "stdout",
          "text": [
            "enter a year2004\n",
            "leap year\n"
          ]
        }
      ],
      "source": [
        "year=int(input(\"enter a year\"))\n",
        "if(year%4==0 and year%100!=0) or (year%400==0):\n",
        "    print(\"leap year\")\n",
        "else:\n",
        "    print(\"not a leap year\")\n",
        "    print(\"not a leap year\")"
      ]
    }
  ]
}