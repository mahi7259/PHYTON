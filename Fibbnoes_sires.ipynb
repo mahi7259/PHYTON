{
  "nbformat": 4,
  "nbformat_minor": 0,
  "metadata": {
    "colab": {
      "provenance": [],
      "authorship_tag": "ABX9TyPL6UL3SLW8GPbLUObekh7/",
      "include_colab_link": true
    },
    "kernelspec": {
      "name": "python3",
      "display_name": "Python 3"
    },
    "language_info": {
      "name": "python"
    }
  },
  "cells": [
    {
      "cell_type": "markdown",
      "metadata": {
        "id": "view-in-github",
        "colab_type": "text"
      },
      "source": [
        "<a href=\"https://colab.research.google.com/github/mahi7259/PHYTON/blob/main/Fibbnoes_sires.ipynb\" target=\"_parent\"><img src=\"https://colab.research.google.com/assets/colab-badge.svg\" alt=\"Open In Colab\"/></a>"
      ]
    },
    {
      "cell_type": "code",
      "execution_count": 1,
      "metadata": {
        "colab": {
          "base_uri": "https://localhost:8080/"
        },
        "id": "ny7sDsEDpMXA",
        "outputId": "b4b36931-e3cd-4890-b5ca-60d17320e8bf"
      },
      "outputs": [
        {
          "output_type": "stream",
          "name": "stdout",
          "text": [
            "enter number of terms6\n",
            "0 1 1 2 3 5 "
          ]
        }
      ],
      "source": [
        "n=int(input(\"enter number of terms\"))\n",
        "a,b=0,1\n",
        "for i in range(n):\n",
        "  print(a,end=\" \")\n",
        "  a,b=b,a+b\n",
        ""
      ]
    }
  ]
}