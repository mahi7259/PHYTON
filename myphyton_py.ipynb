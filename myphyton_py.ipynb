{
  "nbformat": 4,
  "nbformat_minor": 0,
  "metadata": {
    "colab": {
      "provenance": [],
      "authorship_tag": "ABX9TyNcl3WHnNxn7ZcxyRaiwVl+",
      "include_colab_link": true
    },
    "kernelspec": {
      "name": "python3",
      "display_name": "Python 3"
    },
    "language_info": {
      "name": "python"
    }
  },
  "cells": [
    {
      "cell_type": "markdown",
      "metadata": {
        "id": "view-in-github",
        "colab_type": "text"
      },
      "source": [
        "<a href=\"https://colab.research.google.com/github/mahi7259/PHYTON/blob/main/myphyton_py.ipynb\" target=\"_parent\"><img src=\"https://colab.research.google.com/assets/colab-badge.svg\" alt=\"Open In Colab\"/></a>"
      ]
    },
    {
      "cell_type": "code",
      "execution_count": 2,
      "metadata": {
        "id": "oDLHtZZ9n-AD",
        "colab": {
          "base_uri": "https://localhost:8080/"
        },
        "outputId": "d7632fce-706b-4fbc-b86f-4d67400c428b"
      },
      "outputs": [
        {
          "output_type": "stream",
          "name": "stdout",
          "text": [
            "enter first number2\n",
            "enter second number2\n",
            "The sum is: 4\n"
          ]
        }
      ],
      "source": [
        "#add two numbers\n",
        "num1=int(input(\"enter first number\"))\n",
        "num2=int(input(\"enter second number\"))\n",
        "result=num1+num2\n",
        "print(\"The sum is:\",result)\n"
      ]
    },
    {
      "cell_type": "code",
      "source": [
        "r=float(input(\"radius of circle\"))\n",
        "area=3.142*r*r\n",
        "print(\"area of circle is:\",area)"
      ],
      "metadata": {
        "colab": {
          "base_uri": "https://localhost:8080/"
        },
        "id": "t30ecbwbaJI2",
        "outputId": "56e14c33-c566-44f3-fe4b-e1485a070008"
      },
      "execution_count": 6,
      "outputs": [
        {
          "output_type": "stream",
          "name": "stdout",
          "text": [
            "radius of circle3\n",
            "area of circle is: 28.278\n"
          ]
        }
      ]
    },
    {
      "cell_type": "code",
      "source": [
        "num1=int(input(\"enter first number\"))\n",
        "num2=int(input(\"enter second number\"))\n",
        "result=num1*num2\n",
        "print(\"The sum is:\",result)"
      ],
      "metadata": {
        "colab": {
          "base_uri": "https://localhost:8080/"
        },
        "id": "H9kgxAa_TEDn",
        "outputId": "78050d16-8be3-48c8-907a-23b5ecb60e26"
      },
      "execution_count": 3,
      "outputs": [
        {
          "output_type": "stream",
          "name": "stdout",
          "text": [
            "enter first number2\n",
            "enter second number3\n",
            "The sum is: 6\n"
          ]
        }
      ]
    },
    {
      "cell_type": "code",
      "source": [
        "a=int(input(\"enter a\"))\n",
        "b=int(input(\"enter b\"))\n",
        "print(a+b,a*b,a/b,a-b)"
      ],
      "metadata": {
        "colab": {
          "base_uri": "https://localhost:8080/"
        },
        "id": "6XgfXzP7UaON",
        "outputId": "94d983c6-d337-4971-de65-f52b7e783567"
      },
      "execution_count": 4,
      "outputs": [
        {
          "output_type": "stream",
          "name": "stdout",
          "text": [
            "enter a5\n",
            "enter b2\n",
            "7 10 2.5 3\n"
          ]
        }
      ]
    },
    {
      "cell_type": "code",
      "source": [
        "celsius=float(input(\"enter temp in celsius\"))\n",
        "faren=(ccelsius*9/5)+32\n",
        "print(\"tempreture in faren\",faren)"
      ],
      "metadata": {
        "colab": {
          "base_uri": "https://localhost:8080/"
        },
        "id": "eOQQpWxgbG81",
        "outputId": "aa9d2a6f-357e-4fc4-db15-fdb47c4d4895"
      },
      "execution_count": 12,
      "outputs": [
        {
          "output_type": "stream",
          "name": "stdout",
          "text": [
            "enter temp in celsius23\n",
            "tempreture in faren 73.4\n"
          ]
        }
      ]
    },
    {
      "cell_type": "code",
      "source": [
        "faren=float(input(\"enter temp in faren\"))\n",
        "celsius=5/9*(faren-32)\n",
        "print(\"celsius\",celsius)"
      ],
      "metadata": {
        "colab": {
          "base_uri": "https://localhost:8080/"
        },
        "id": "Ao2O7i0LdQu6",
        "outputId": "a2c25f7f-b9e5-4e77-fa5b-6145d5eab89e"
      },
      "execution_count": 21,
      "outputs": [
        {
          "output_type": "stream",
          "name": "stdout",
          "text": [
            "enter temp in faren77\n",
            "celsius 25.0\n"
          ]
        }
      ]
    },
    {
      "cell_type": "code",
      "source": [
        "weight=int(input(\"enter weight\"))\n",
        "hight=float(input(\"enter hight\"))\n",
        "bmi=weight/(hight*hight)\n",
        "print(\"bmi\",bmi)"
      ],
      "metadata": {
        "colab": {
          "base_uri": "https://localhost:8080/"
        },
        "id": "j4Bk1tpkeleA",
        "outputId": "3f75c09a-972d-41c6-8bd5-57a52dd08a26"
      },
      "execution_count": 26,
      "outputs": [
        {
          "output_type": "stream",
          "name": "stdout",
          "text": [
            "enter weight60\n",
            "enter hight1.7\n",
            "bmi 20.761245674740486\n"
          ]
        }
      ]
    }
  ]
}