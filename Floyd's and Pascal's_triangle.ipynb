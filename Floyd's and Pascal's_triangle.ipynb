{
  "nbformat": 4,
  "nbformat_minor": 0,
  "metadata": {
    "colab": {
      "provenance": [],
      "authorship_tag": "ABX9TyPj81hsqY2D0wn5kQkBoChK",
      "include_colab_link": true
    },
    "kernelspec": {
      "name": "python3",
      "display_name": "Python 3"
    },
    "language_info": {
      "name": "python"
    }
  },
  "cells": [
    {
      "cell_type": "markdown",
      "metadata": {
        "id": "view-in-github",
        "colab_type": "text"
      },
      "source": [
        "<a href=\"https://colab.research.google.com/github/mahi7259/PHYTON/blob/main/Floyd's_triangle.ipynb\" target=\"_parent\"><img src=\"https://colab.research.google.com/assets/colab-badge.svg\" alt=\"Open In Colab\"/></a>"
      ]
    },
    {
      "cell_type": "code",
      "execution_count": 1,
      "metadata": {
        "colab": {
          "base_uri": "https://localhost:8080/"
        },
        "id": "B8X7WLn-Igzh",
        "outputId": "39a2590e-7a73-4553-c082-d7d5f1032ee0"
      },
      "outputs": [
        {
          "output_type": "stream",
          "name": "stdout",
          "text": [
            "Enter the number of rows for Pascal's Triangle: 4\n",
            "     1 \n",
            "    1 1 \n",
            "   1 2 1 \n",
            "  1 3 3 1 \n"
          ]
        }
      ],
      "source": [
        "def print_pascals_triangle(rows):\n",
        "    for i in range(rows):\n",
        "        num = 1\n",
        "        print(\" \" * (rows - i), end=\" \")\n",
        "        for j in range(i + 1):\n",
        "            print(num, end=\" \")\n",
        "            num = num * (i - j) // (j + 1)\n",
        "        print()\n",
        "\n",
        "rows = int(input(\"Enter the number of rows for Pascal's Triangle: \"))\n",
        "print_pascals_triangle(rows)"
      ]
    },
    {
      "cell_type": "code",
      "source": [
        "rows = int(input(\"Enter the number of rows: \"))\n",
        "num = 1\n",
        "\n",
        "for i in range(1, rows + 1):\n",
        "    for j in range(1, i + 1):\n",
        "        print(num, end=\" \")\n",
        "        num += 1\n",
        "    print()"
      ],
      "metadata": {
        "colab": {
          "base_uri": "https://localhost:8080/"
        },
        "id": "kfN6w_5PI7aU",
        "outputId": "92811d36-6ba3-4aac-addb-c909eadca106"
      },
      "execution_count": 2,
      "outputs": [
        {
          "output_type": "stream",
          "name": "stdout",
          "text": [
            "Enter the number of rows: 4\n",
            "1 \n",
            "2 3 \n",
            "4 5 6 \n",
            "7 8 9 10 \n"
          ]
        }
      ]
    }
  ]
}
