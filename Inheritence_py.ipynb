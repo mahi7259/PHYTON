{
  "nbformat": 4,
  "nbformat_minor": 0,
  "metadata": {
    "colab": {
      "provenance": [],
      "authorship_tag": "ABX9TyPpWSZU/YEqcm8FEMXvphXx",
      "include_colab_link": true
    },
    "kernelspec": {
      "name": "python3",
      "display_name": "Python 3"
    },
    "language_info": {
      "name": "python"
    }
  },
  "cells": [
    {
      "cell_type": "markdown",
      "metadata": {
        "id": "view-in-github",
        "colab_type": "text"
      },
      "source": [
        "<a href=\"https://colab.research.google.com/github/mahi7259/PHYTON/blob/main/Inheritence_py.ipynb\" target=\"_parent\"><img src=\"https://colab.research.google.com/assets/colab-badge.svg\" alt=\"Open In Colab\"/></a>"
      ]
    },
    {
      "cell_type": "code",
      "execution_count": 4,
      "metadata": {
        "colab": {
          "base_uri": "https://localhost:8080/"
        },
        "id": "T8P8h6xxOH6t",
        "outputId": "ac07bd9b-877d-4d5d-9c1f-3df5ff1fdf66"
      },
      "outputs": [
        {
          "output_type": "stream",
          "name": "stdout",
          "text": [
            "i bark\n"
          ]
        }
      ],
      "source": [
        "class animal:\n",
        "  def speak(self):\n",
        "    print(\"iam animal\")\n",
        "class Dog(animal):\n",
        "  def speak(self):\n",
        "    print(\"i bark\")\n",
        "dog=Dog()\n",
        "dog.speak()\n"
      ]
    }
  ]
}