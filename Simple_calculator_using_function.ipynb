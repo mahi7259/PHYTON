{
  "nbformat": 4,
  "nbformat_minor": 0,
  "metadata": {
    "colab": {
      "provenance": [],
      "authorship_tag": "ABX9TyMXwsp62i9laY8Q2U4lIfkj",
      "include_colab_link": true
    },
    "kernelspec": {
      "name": "python3",
      "display_name": "Python 3"
    },
    "language_info": {
      "name": "python"
    }
  },
  "cells": [
    {
      "cell_type": "markdown",
      "metadata": {
        "id": "view-in-github",
        "colab_type": "text"
      },
      "source": [
        "<a href=\"https://colab.research.google.com/github/mahi7259/PHYTON/blob/main/Simple_calculator_using_function.ipynb\" target=\"_parent\"><img src=\"https://colab.research.google.com/assets/colab-badge.svg\" alt=\"Open In Colab\"/></a>"
      ]
    },
    {
      "cell_type": "code",
      "execution_count": 8,
      "metadata": {
        "colab": {
          "base_uri": "https://localhost:8080/"
        },
        "id": "YOWRmahd2bc8",
        "outputId": "1e57dcab-d3c8-449e-d57e-e9b7a9a33b71"
      },
      "outputs": [
        {
          "output_type": "stream",
          "name": "stdout",
          "text": [
            "50\n",
            "None\n"
          ]
        }
      ],
      "source": [
        "def calculator(a, b, operator):\n",
        "    if (operator == '+'):\n",
        "        print(a + b)\n",
        "    elif (operator == '-'):\n",
        "        print(a - b)\n",
        "    elif (operator == '*'):\n",
        "        print(a * b)\n",
        "    elif (operator == '/'):\n",
        "        print(\"a / b if b != 0 else\", \"Cannot divide by zero\")\n",
        "    else:\n",
        "        print(\"Invalid operator\")\n",
        "\n",
        "\n",
        "print(calculator(10, 5, '*'))"
      ]
    },
    {
      "cell_type": "code",
      "source": [],
      "metadata": {
        "id": "ZhahZTla3ZS2"
      },
      "execution_count": null,
      "outputs": []
    }
  ]
}